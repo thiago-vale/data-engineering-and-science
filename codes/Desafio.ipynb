{
 "cells": [
  {
   "cell_type": "code",
   "execution_count": 1,
   "metadata": {},
   "outputs": [],
   "source": [
    "import sys\n",
    "sys.path.append('../utils')"
   ]
  },
  {
   "cell_type": "code",
   "execution_count": 2,
   "metadata": {},
   "outputs": [
    {
     "name": "stderr",
     "output_type": "stream",
     "text": [
      "23/04/14 21:44:03 WARN Utils: Your hostname, thiagovale-550XDA resolves to a loopback address: 127.0.1.1; using 192.168.0.15 instead (on interface wlo1)\n",
      "23/04/14 21:44:03 WARN Utils: Set SPARK_LOCAL_IP if you need to bind to another address\n"
     ]
    },
    {
     "name": "stdout",
     "output_type": "stream",
     "text": [
      ":: loading settings :: url = jar:file:/usr/local/lib/python3.10/dist-packages/pyspark/jars/ivy-2.5.0.jar!/org/apache/ivy/core/settings/ivysettings.xml\n"
     ]
    },
    {
     "name": "stderr",
     "output_type": "stream",
     "text": [
      "Ivy Default Cache set to: /home/thiago-vale/.ivy2/cache\n",
      "The jars for the packages stored in: /home/thiago-vale/.ivy2/jars\n",
      "io.delta#delta-core_2.12 added as a dependency\n",
      ":: resolving dependencies :: org.apache.spark#spark-submit-parent-89ca8263-657e-4282-9ed4-a6f5f202aeb1;1.0\n",
      "\tconfs: [default]\n",
      "\tfound io.delta#delta-core_2.12;2.0.2 in central\n",
      "\tfound io.delta#delta-storage;2.0.2 in central\n",
      "\tfound org.antlr#antlr4-runtime;4.8 in central\n",
      "\tfound org.codehaus.jackson#jackson-core-asl;1.9.13 in central\n",
      ":: resolution report :: resolve 126ms :: artifacts dl 5ms\n",
      "\t:: modules in use:\n",
      "\tio.delta#delta-core_2.12;2.0.2 from central in [default]\n",
      "\tio.delta#delta-storage;2.0.2 from central in [default]\n",
      "\torg.antlr#antlr4-runtime;4.8 from central in [default]\n",
      "\torg.codehaus.jackson#jackson-core-asl;1.9.13 from central in [default]\n",
      "\t---------------------------------------------------------------------\n",
      "\t|                  |            modules            ||   artifacts   |\n",
      "\t|       conf       | number| search|dwnlded|evicted|| number|dwnlded|\n",
      "\t---------------------------------------------------------------------\n",
      "\t|      default     |   4   |   0   |   0   |   0   ||   4   |   0   |\n",
      "\t---------------------------------------------------------------------\n",
      ":: retrieving :: org.apache.spark#spark-submit-parent-89ca8263-657e-4282-9ed4-a6f5f202aeb1\n",
      "\tconfs: [default]\n",
      "\t0 artifacts copied, 4 already retrieved (0kB/3ms)\n",
      "23/04/14 21:44:04 WARN NativeCodeLoader: Unable to load native-hadoop library for your platform... using builtin-java classes where applicable\n",
      "Using Spark's default log4j profile: org/apache/spark/log4j-defaults.properties\n",
      "Setting default log level to \"WARN\".\n",
      "To adjust logging level use sc.setLogLevel(newLevel). For SparkR, use setLogLevel(newLevel).\n"
     ]
    }
   ],
   "source": [
    "from spark_config import spark_configs\n",
    "\n",
    "spark = spark_configs()"
   ]
  },
  {
   "cell_type": "code",
   "execution_count": 3,
   "metadata": {},
   "outputs": [],
   "source": [
    "spark = spark.builder.appName('read spark').getOrCreate()"
   ]
  },
  {
   "cell_type": "code",
   "execution_count": 4,
   "metadata": {},
   "outputs": [
    {
     "name": "stderr",
     "output_type": "stream",
     "text": [
      "                                                                                \r"
     ]
    }
   ],
   "source": [
    "cnaes = spark.read.format('csv').option('header','true').option('inferSchema','true').option('delimiter',';').load('../data/cnaes.csv')\n",
    "estabelecimentos = spark.read.format('csv').option('header','true').option('inferSchema','true').option('delimiter',';').load('../data/estabelecimentos/')"
   ]
  },
  {
   "cell_type": "code",
   "execution_count": 5,
   "metadata": {},
   "outputs": [
    {
     "name": "stdout",
     "output_type": "stream",
     "text": [
      "+------+--------------------+\n",
      "|  CNAE|      DESCRICAO_CNAE|\n",
      "+------+--------------------+\n",
      "|111301|    Cultivo de arroz|\n",
      "|111302|    Cultivo de milho|\n",
      "|111303|    Cultivo de trigo|\n",
      "|111399|Cultivo de outros...|\n",
      "|112101|Cultivo de algod�...|\n",
      "+------+--------------------+\n",
      "only showing top 5 rows\n",
      "\n"
     ]
    }
   ],
   "source": [
    "cnaes.show(5)"
   ]
  },
  {
   "cell_type": "code",
   "execution_count": 6,
   "metadata": {},
   "outputs": [
    {
     "name": "stdout",
     "output_type": "stream",
     "text": [
      "+-----------+----------+-------+---------------------------+--------------------+------------------+-----------------------+-------------------------+--------------------------+----+---------------------+--------------+---------------+---------------+--------------------+------+-----------+--------------------+--------+---+---------+-----+--------+-----+-----+-------+----+--------------------+-----------------+----------------------+\n",
      "|CNPJ_BASICO|CNPJ_ORDEM|CNPJ_DV|IDENTIFICADOR_MATRIZ_FILIAL|       NOME_FANTASIA|SITUACAO_CADASTRAL|DATA_SITUACAO_CADASTRAL|MOTIVO_SITUACAO_CADASTRAL|NOME_DA_CIDADE_NO_EXTERIOR|PAIS|DATA_INICIO_ATIVIDADE|CNAE_PRINCIPAL|CNAE_SECUNDARIA|TIPO_LOGRADOURO|          LOGRADOURO|NUMERO|COMPLEMENTO|              BAIRRO|     CEP| UF|MUNICIPIO|DDD_1|   TEL_1|DDD_2|TEL_2|DDD_FAX| FAX|  CORREIO_ELETRONICO|SITUACAO_ESPECIAL|DATA_SITUACAO_ESPECIAL|\n",
      "+-----------+----------+-------+---------------------------+--------------------+------------------+-----------------------+-------------------------+--------------------------+----+---------------------+--------------+---------------+---------------+--------------------+------+-----------+--------------------+--------+---+---------+-----+--------+-----+-----+-------+----+--------------------+-----------------+----------------------+\n",
      "|   28678846|         1|      2|                          1|                null|                 2|               20220314|                        0|                      null|null|             20170919|       4729699|           null|        AVENIDA|LEONARDO ANTONIO ...|    35|       null|JARDIM PARAISO I ...|13179335| SP|     7149|   19|89501163| null| null|   null|null|ROSYJACOMO@HOTMAI...|             null|                  null|\n",
      "|   26754771|         1|     68|                          1|  INOVAR CONSTRUCOES|                 4|               20210225|                       63|                      null|null|             20161222|       4399103|4330405,4330404|            RUA|          SAO MIGUEL|   267|     CASA 4|CORONEL APARICIO ...|91710330| RS|     8801|   51|99683907| null| null|   null|null|guilhermesodre201...|             null|                  null|\n",
      "|   37962505|         1|     47|                          1|         CABRAL FOOD|                 8|               20200923|                        1|                      null|null|             20200804|       5611203|           null|        AVENIDA|JORGE RODRIGUES P...|   100|       null|       JARDIM RECORD|06780120| SP|     7157|   11|46851465| null| null|   null|null|MARIANAPMEDEIROS@...|             null|                  null|\n",
      "|   26755226|         1|     96|                          1|       JC MANUTENCAO|                 2|               20161222|                        0|                      null|null|             20161222|       3314707|           null|        AVENIDA|     COELHO DA ROCHA|  2138|       null|      ROCHA SOBRINHO|26572481| RJ|     1116|   21|64508032| null| null|   null|null|jeffersonrabello3...|             null|                  null|\n",
      "|   26755456|         1|     55|                          1|HADASSA BOLOS NO ...|                 8|               20170412|                        1|                      null|null|             20161222|       5612100|           null|            RUA|         DOS GUSMOES|    68|       CASA| JARDIM SAO LOURENCO|79041540| MS|     9051|   67|30267063| null| null|   null|null|clafael4@hotmail.com|             null|                  null|\n",
      "+-----------+----------+-------+---------------------------+--------------------+------------------+-----------------------+-------------------------+--------------------------+----+---------------------+--------------+---------------+---------------+--------------------+------+-----------+--------------------+--------+---+---------+-----+--------+-----+-----+-------+----+--------------------+-----------------+----------------------+\n",
      "only showing top 5 rows\n",
      "\n"
     ]
    }
   ],
   "source": [
    "estabelecimentos.show(5)"
   ]
  },
  {
   "cell_type": "code",
   "execution_count": 7,
   "metadata": {},
   "outputs": [
    {
     "name": "stderr",
     "output_type": "stream",
     "text": [
      "                                                                                \r"
     ]
    },
    {
     "data": {
      "text/plain": [
       "20996744"
      ]
     },
     "execution_count": 7,
     "metadata": {},
     "output_type": "execute_result"
    }
   ],
   "source": [
    "# Quantos estabelecimentos existem?\n",
    "estabelecimentos.count()"
   ]
  },
  {
   "cell_type": "code",
   "execution_count": 8,
   "metadata": {},
   "outputs": [
    {
     "data": {
      "text/plain": [
       "30"
      ]
     },
     "execution_count": 8,
     "metadata": {},
     "output_type": "execute_result"
    }
   ],
   "source": [
    "# Na tabela de estabelecimentos, quantas colunas existem e quantas são identificadas pelo spark como números? (Use inferSchema ao ler os arquivos).\n",
    "len(estabelecimentos.columns)"
   ]
  },
  {
   "cell_type": "code",
   "execution_count": 9,
   "metadata": {},
   "outputs": [
    {
     "name": "stdout",
     "output_type": "stream",
     "text": [
      "root\n",
      " |-- CNPJ_BASICO: integer (nullable = true)\n",
      " |-- CNPJ_ORDEM: integer (nullable = true)\n",
      " |-- CNPJ_DV: integer (nullable = true)\n",
      " |-- IDENTIFICADOR_MATRIZ_FILIAL: integer (nullable = true)\n",
      " |-- NOME_FANTASIA: string (nullable = true)\n",
      " |-- SITUACAO_CADASTRAL: integer (nullable = true)\n",
      " |-- DATA_SITUACAO_CADASTRAL: integer (nullable = true)\n",
      " |-- MOTIVO_SITUACAO_CADASTRAL: integer (nullable = true)\n",
      " |-- NOME_DA_CIDADE_NO_EXTERIOR: string (nullable = true)\n",
      " |-- PAIS: integer (nullable = true)\n",
      " |-- DATA_INICIO_ATIVIDADE: integer (nullable = true)\n",
      " |-- CNAE_PRINCIPAL: integer (nullable = true)\n",
      " |-- CNAE_SECUNDARIA: string (nullable = true)\n",
      " |-- TIPO_LOGRADOURO: string (nullable = true)\n",
      " |-- LOGRADOURO: string (nullable = true)\n",
      " |-- NUMERO: string (nullable = true)\n",
      " |-- COMPLEMENTO: string (nullable = true)\n",
      " |-- BAIRRO: string (nullable = true)\n",
      " |-- CEP: string (nullable = true)\n",
      " |-- UF: string (nullable = true)\n",
      " |-- MUNICIPIO: integer (nullable = true)\n",
      " |-- DDD_1: string (nullable = true)\n",
      " |-- TEL_1: string (nullable = true)\n",
      " |-- DDD_2: string (nullable = true)\n",
      " |-- TEL_2: string (nullable = true)\n",
      " |-- DDD_FAX: double (nullable = true)\n",
      " |-- FAX: string (nullable = true)\n",
      " |-- CORREIO_ELETRONICO: string (nullable = true)\n",
      " |-- SITUACAO_ESPECIAL: string (nullable = true)\n",
      " |-- DATA_SITUACAO_ESPECIAL: integer (nullable = true)\n",
      "\n"
     ]
    }
   ],
   "source": [
    "estabelecimentos.printSchema()"
   ]
  },
  {
   "cell_type": "code",
   "execution_count": 10,
   "metadata": {},
   "outputs": [
    {
     "data": {
      "text/plain": [
       "[('CNPJ_BASICO', 'int'),\n",
       " ('CNPJ_ORDEM', 'int'),\n",
       " ('CNPJ_DV', 'int'),\n",
       " ('IDENTIFICADOR_MATRIZ_FILIAL', 'int'),\n",
       " ('NOME_FANTASIA', 'string'),\n",
       " ('SITUACAO_CADASTRAL', 'int'),\n",
       " ('DATA_SITUACAO_CADASTRAL', 'int'),\n",
       " ('MOTIVO_SITUACAO_CADASTRAL', 'int'),\n",
       " ('NOME_DA_CIDADE_NO_EXTERIOR', 'string'),\n",
       " ('PAIS', 'int'),\n",
       " ('DATA_INICIO_ATIVIDADE', 'int'),\n",
       " ('CNAE_PRINCIPAL', 'int'),\n",
       " ('CNAE_SECUNDARIA', 'string'),\n",
       " ('TIPO_LOGRADOURO', 'string'),\n",
       " ('LOGRADOURO', 'string'),\n",
       " ('NUMERO', 'string'),\n",
       " ('COMPLEMENTO', 'string'),\n",
       " ('BAIRRO', 'string'),\n",
       " ('CEP', 'string'),\n",
       " ('UF', 'string'),\n",
       " ('MUNICIPIO', 'int'),\n",
       " ('DDD_1', 'string'),\n",
       " ('TEL_1', 'string'),\n",
       " ('DDD_2', 'string'),\n",
       " ('TEL_2', 'string'),\n",
       " ('DDD_FAX', 'double'),\n",
       " ('FAX', 'string'),\n",
       " ('CORREIO_ELETRONICO', 'string'),\n",
       " ('SITUACAO_ESPECIAL', 'string'),\n",
       " ('DATA_SITUACAO_ESPECIAL', 'int')]"
      ]
     },
     "execution_count": 10,
     "metadata": {},
     "output_type": "execute_result"
    }
   ],
   "source": [
    "estabelecimentos.dtypes"
   ]
  },
  {
   "cell_type": "code",
   "execution_count": 11,
   "metadata": {},
   "outputs": [
    {
     "data": {
      "text/plain": [
       "[('CNAE', 'int'), ('DESCRICAO_CNAE', 'string')]"
      ]
     },
     "execution_count": 11,
     "metadata": {},
     "output_type": "execute_result"
    }
   ],
   "source": [
    "cnaes.dtypes"
   ]
  },
  {
   "cell_type": "code",
   "execution_count": 12,
   "metadata": {},
   "outputs": [],
   "source": [
    "estabelecimentos.createTempView('estab')"
   ]
  },
  {
   "cell_type": "code",
   "execution_count": 13,
   "metadata": {},
   "outputs": [],
   "source": [
    "logradouro_null = spark.sql('''\n",
    "                            select count(*)\n",
    "                            from estab\n",
    "                            where LOGRADOURO is null\n",
    "                            ''')"
   ]
  },
  {
   "cell_type": "code",
   "execution_count": 14,
   "metadata": {},
   "outputs": [
    {
     "name": "stderr",
     "output_type": "stream",
     "text": [
      "[Stage 9:=================================================>       (26 + 4) / 30]\r"
     ]
    },
    {
     "name": "stdout",
     "output_type": "stream",
     "text": [
      "+--------+\n",
      "|count(1)|\n",
      "+--------+\n",
      "|     828|\n",
      "+--------+\n",
      "\n"
     ]
    },
    {
     "name": "stderr",
     "output_type": "stream",
     "text": [
      "                                                                                \r"
     ]
    }
   ],
   "source": [
    "logradouro_null.show()"
   ]
  },
  {
   "cell_type": "code",
   "execution_count": 15,
   "metadata": {},
   "outputs": [],
   "source": [
    "from pyspark.sql.functions import udf\n",
    "from pyspark.sql.types import BooleanType"
   ]
  },
  {
   "cell_type": "code",
   "execution_count": 16,
   "metadata": {},
   "outputs": [
    {
     "data": {
      "text/plain": [
       "<function __main__.is_avenida(logradouro)>"
      ]
     },
     "execution_count": 16,
     "metadata": {},
     "output_type": "execute_result"
    }
   ],
   "source": [
    "def is_avenida(logradouro):\n",
    "    if logradouro is not None and logradouro.lower().startswith('avenida'):\n",
    "        return True\n",
    "    else:\n",
    "        return False\n",
    "    \n",
    "spark.udf.register(\"is_avenida\", is_avenida, BooleanType())"
   ]
  },
  {
   "cell_type": "code",
   "execution_count": 25,
   "metadata": {},
   "outputs": [],
   "source": [
    "estabelecimentos.createOrReplaceTempView('estab')\n",
    "cnaes.createOrReplaceTempView('cnaes')"
   ]
  },
  {
   "cell_type": "code",
   "execution_count": 18,
   "metadata": {},
   "outputs": [],
   "source": [
    "avenida = spark.sql('''\n",
    "                    select\n",
    "                        count(*)\n",
    "                    from estab\n",
    "                    where is_avenida(LOGRADOURO) == True\n",
    "                    ''')"
   ]
  },
  {
   "cell_type": "code",
   "execution_count": 19,
   "metadata": {},
   "outputs": [
    {
     "name": "stderr",
     "output_type": "stream",
     "text": [
      "[Stage 12:==================================================>     (27 + 3) / 30]\r"
     ]
    },
    {
     "name": "stdout",
     "output_type": "stream",
     "text": [
      "+--------+\n",
      "|count(1)|\n",
      "+--------+\n",
      "|   52587|\n",
      "+--------+\n",
      "\n"
     ]
    },
    {
     "name": "stderr",
     "output_type": "stream",
     "text": [
      "                                                                                \r"
     ]
    }
   ],
   "source": [
    "avenida.show()"
   ]
  },
  {
   "cell_type": "code",
   "execution_count": 20,
   "metadata": {},
   "outputs": [
    {
     "name": "stderr",
     "output_type": "stream",
     "text": [
      "[Stage 17:>                                                         (0 + 2) / 2]\r"
     ]
    },
    {
     "name": "stdout",
     "output_type": "stream",
     "text": [
      "+-------------------+\n",
      "|count(DISTINCT CEP)|\n",
      "+-------------------+\n",
      "|             889885|\n",
      "+-------------------+\n",
      "\n"
     ]
    },
    {
     "name": "stderr",
     "output_type": "stream",
     "text": [
      "                                                                                \r"
     ]
    }
   ],
   "source": [
    "cep = spark.sql('select count(distinct CEP) from estab')\n",
    "cep.show()"
   ]
  },
  {
   "cell_type": "code",
   "execution_count": 21,
   "metadata": {},
   "outputs": [
    {
     "name": "stderr",
     "output_type": "stream",
     "text": [
      "[Stage 23:>                                                         (0 + 2) / 2]\r"
     ]
    },
    {
     "name": "stdout",
     "output_type": "stream",
     "text": [
      "+-------------------+\n",
      "|count(DISTINCT CEP)|\n",
      "+-------------------+\n",
      "|             889885|\n",
      "+-------------------+\n",
      "\n"
     ]
    },
    {
     "name": "stderr",
     "output_type": "stream",
     "text": [
      "                                                                                \r"
     ]
    }
   ],
   "source": [
    "from pyspark.sql.functions import countDistinct\n",
    "estabelecimentos.select(countDistinct('CEP')).show()"
   ]
  },
  {
   "cell_type": "code",
   "execution_count": 22,
   "metadata": {},
   "outputs": [
    {
     "data": {
      "text/plain": [
       "1359"
      ]
     },
     "execution_count": 22,
     "metadata": {},
     "output_type": "execute_result"
    }
   ],
   "source": [
    "cnaes.count()"
   ]
  },
  {
   "cell_type": "code",
   "execution_count": 23,
   "metadata": {},
   "outputs": [
    {
     "data": {
      "text/plain": [
       "<function __main__.is_cultivo(descricao)>"
      ]
     },
     "execution_count": 23,
     "metadata": {},
     "output_type": "execute_result"
    }
   ],
   "source": [
    "estab_with_cnae = estabelecimentos.join(cnaes, estabelecimentos[\"CNAE_PRINCIPAL\"] == cnaes[\"CNAE\"])\n",
    "\n",
    "def is_cultivo(descricao):\n",
    "    if descricao is not None and \"cultivo\" in descricao.lower():\n",
    "        return True\n",
    "    else:\n",
    "        return False\n",
    "    \n",
    "spark.udf.register(\"is_cnae_cultivo\", is_cultivo, BooleanType())"
   ]
  },
  {
   "cell_type": "code",
   "execution_count": 24,
   "metadata": {},
   "outputs": [
    {
     "name": "stderr",
     "output_type": "stream",
     "text": [
      "[Stage 34:>                                                         (0 + 2) / 2]\r"
     ]
    },
    {
     "name": "stdout",
     "output_type": "stream",
     "text": [
      "+-----------------+\n",
      "|num_estab_cultivo|\n",
      "+-----------------+\n",
      "|           223500|\n",
      "+-----------------+\n",
      "\n"
     ]
    },
    {
     "name": "stderr",
     "output_type": "stream",
     "text": [
      "                                                                                \r"
     ]
    }
   ],
   "source": [
    "estab_with_cnae.createOrReplaceTempView(\"estab_with_cnae\")\n",
    "\n",
    "cultivo_stab = spark.sql('''\n",
    "                            SELECT COUNT(*) AS num_estab_cultivo\n",
    "                            FROM estab_with_cnae\n",
    "                            WHERE is_cnae_cultivo(DESCRICAO_CNAE) == True\n",
    "                            ''')\n",
    "cultivo_stab.show()"
   ]
  },
  {
   "cell_type": "code",
   "execution_count": 26,
   "metadata": {},
   "outputs": [
    {
     "name": "stderr",
     "output_type": "stream",
     "text": [
      "[Stage 43:>                                                         (0 + 2) / 2]\r"
     ]
    },
    {
     "name": "stdout",
     "output_type": "stream",
     "text": [
      "+--------+\n",
      "|count(1)|\n",
      "+--------+\n",
      "|  200243|\n",
      "+--------+\n",
      "\n"
     ]
    },
    {
     "name": "stderr",
     "output_type": "stream",
     "text": [
      "                                                                                \r"
     ]
    }
   ],
   "source": [
    "cultivo = spark.sql('''\n",
    "                    select count(*)\n",
    "                    from estab a\n",
    "                    left join cnaes b on a.CNAE_PRINCIPAL = b.CNAE\n",
    "                    where lower(b.DESCRICAO_CNAE) like ('cultivo%')\n",
    "                    ''')\n",
    "cultivo.show()"
   ]
  },
  {
   "cell_type": "code",
   "execution_count": 27,
   "metadata": {},
   "outputs": [
    {
     "name": "stderr",
     "output_type": "stream",
     "text": [
      "[Stage 48:==================================================>     (27 + 3) / 30]\r"
     ]
    },
    {
     "name": "stdout",
     "output_type": "stream",
     "text": [
      "+--------+\n",
      "|count(1)|\n",
      "+--------+\n",
      "| 1093082|\n",
      "+--------+\n",
      "\n"
     ]
    },
    {
     "name": "stderr",
     "output_type": "stream",
     "text": [
      "                                                                                \r"
     ]
    }
   ],
   "source": [
    "filial = spark.sql(''' select count(*) from estab where IDENTIFICADOR_MATRIZ_FILIAL = 2''')\n",
    "filial.show()"
   ]
  },
  {
   "cell_type": "code",
   "execution_count": null,
   "metadata": {},
   "outputs": [],
   "source": []
  }
 ],
 "metadata": {
  "kernelspec": {
   "display_name": "Python 3",
   "language": "python",
   "name": "python3"
  },
  "language_info": {
   "codemirror_mode": {
    "name": "ipython",
    "version": 3
   },
   "file_extension": ".py",
   "mimetype": "text/x-python",
   "name": "python",
   "nbconvert_exporter": "python",
   "pygments_lexer": "ipython3",
   "version": "3.10.6"
  },
  "orig_nbformat": 4
 },
 "nbformat": 4,
 "nbformat_minor": 2
}
