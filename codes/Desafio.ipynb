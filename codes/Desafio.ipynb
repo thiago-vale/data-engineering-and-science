{
 "cells": [
  {
   "cell_type": "code",
   "execution_count": 1,
   "metadata": {
    "tags": []
   },
   "outputs": [],
   "source": [
    "import sys\n",
    "sys.path.append('../utils')"
   ]
  },
  {
   "cell_type": "code",
   "execution_count": 2,
   "metadata": {
    "tags": []
   },
   "outputs": [
    {
     "name": "stderr",
     "output_type": "stream",
     "text": [
      "23/04/25 20:49:42 WARN Utils: Your hostname, thiagovale-550XDA resolves to a loopback address: 127.0.1.1; using 192.168.0.15 instead (on interface wlo1)\n",
      "23/04/25 20:49:42 WARN Utils: Set SPARK_LOCAL_IP if you need to bind to another address\n"
     ]
    },
    {
     "name": "stdout",
     "output_type": "stream",
     "text": [
      ":: loading settings :: url = jar:file:/usr/local/lib/python3.10/dist-packages/pyspark/jars/ivy-2.5.0.jar!/org/apache/ivy/core/settings/ivysettings.xml\n"
     ]
    },
    {
     "name": "stderr",
     "output_type": "stream",
     "text": [
      "Ivy Default Cache set to: /home/thiago-vale/.ivy2/cache\n",
      "The jars for the packages stored in: /home/thiago-vale/.ivy2/jars\n",
      "io.delta#delta-core_2.12 added as a dependency\n",
      ":: resolving dependencies :: org.apache.spark#spark-submit-parent-cf95040a-69ef-44ca-ab94-f5ca4e3b5780;1.0\n",
      "\tconfs: [default]\n",
      "\tfound io.delta#delta-core_2.12;2.0.2 in central\n",
      "\tfound io.delta#delta-storage;2.0.2 in central\n",
      "\tfound org.antlr#antlr4-runtime;4.8 in central\n",
      "\tfound org.codehaus.jackson#jackson-core-asl;1.9.13 in central\n",
      ":: resolution report :: resolve 128ms :: artifacts dl 5ms\n",
      "\t:: modules in use:\n",
      "\tio.delta#delta-core_2.12;2.0.2 from central in [default]\n",
      "\tio.delta#delta-storage;2.0.2 from central in [default]\n",
      "\torg.antlr#antlr4-runtime;4.8 from central in [default]\n",
      "\torg.codehaus.jackson#jackson-core-asl;1.9.13 from central in [default]\n",
      "\t---------------------------------------------------------------------\n",
      "\t|                  |            modules            ||   artifacts   |\n",
      "\t|       conf       | number| search|dwnlded|evicted|| number|dwnlded|\n",
      "\t---------------------------------------------------------------------\n",
      "\t|      default     |   4   |   0   |   0   |   0   ||   4   |   0   |\n",
      "\t---------------------------------------------------------------------\n",
      ":: retrieving :: org.apache.spark#spark-submit-parent-cf95040a-69ef-44ca-ab94-f5ca4e3b5780\n",
      "\tconfs: [default]\n",
      "\t0 artifacts copied, 4 already retrieved (0kB/3ms)\n",
      "23/04/25 20:49:43 WARN NativeCodeLoader: Unable to load native-hadoop library for your platform... using builtin-java classes where applicable\n",
      "Using Spark's default log4j profile: org/apache/spark/log4j-defaults.properties\n",
      "Setting default log level to \"WARN\".\n",
      "To adjust logging level use sc.setLogLevel(newLevel). For SparkR, use setLogLevel(newLevel).\n"
     ]
    }
   ],
   "source": [
    "from spark_config import spark_configs\n",
    "\n",
    "spark = spark_configs()"
   ]
  },
  {
   "cell_type": "code",
   "execution_count": 3,
   "metadata": {
    "tags": []
   },
   "outputs": [],
   "source": [
    "spark = spark.builder.appName('read spark').getOrCreate()"
   ]
  },
  {
   "cell_type": "code",
   "execution_count": 6,
   "metadata": {
    "tags": []
   },
   "outputs": [
    {
     "name": "stderr",
     "output_type": "stream",
     "text": [
      "                                                                                \r"
     ]
    }
   ],
   "source": [
    "df = spark.read.format('csv').option('header','true').option('inferSchema','true').option('delimiter',';').load('../data/MICRODADOS_ENADE_2017.csv')"
   ]
  },
  {
   "cell_type": "code",
   "execution_count": 12,
   "metadata": {
    "tags": []
   },
   "outputs": [
    {
     "name": "stdout",
     "output_type": "stream",
     "text": [
      "+------+------+----------+----------+--------+--------+-------------+--------------+-----------+---------------+--------+-------+----------+-----------+------------------+----------------+------------+-----------+-------------+-------------+-------------+-----------+-------------+-------------+-------------+------------------+-----------------+--------------------+--------------------+-------------+-------------+--------------------+--------------------+-------+---------+-----------+-----------+-----------+-----------+---------+---------+---------+---------+---------+------+-----+---------+---------+--------+-----------+-----------+--------+-----------+-----------+-----+---------+---------+--------+--------+--------+--------+--------+--------+--------+--------+--------+--------+--------+--------+------+------+------+------+------+------+------+------+------+------+------+------+------+------+------+------+------+------+------+------+------+------+------+------+------+------+------+------+------+------+------+------+------+------+------+------+------+------+------+------+------+------+------+------+------+------+------+------+------+------+------+------+------+------+------+------+------+------+------+------+------+------+------+------+------+------+------+------+------+------+------+------+------+------+------+------+------+------+------+------+------+\n",
      "|NU_ANO|CO_IES|CO_CATEGAD|CO_ORGACAD|CO_GRUPO|CO_CURSO|CO_MODALIDADE|CO_MUNIC_CURSO|CO_UF_CURSO|CO_REGIAO_CURSO|NU_IDADE|TP_SEXO|ANO_FIM_EM|ANO_IN_GRAD|CO_TURNO_GRADUACAO|TP_INSCRICAO_ADM|TP_INSCRICAO|NU_ITEM_OFG|NU_ITEM_OFG_Z|NU_ITEM_OFG_X|NU_ITEM_OFG_N|NU_ITEM_OCE|NU_ITEM_OCE_Z|NU_ITEM_OCE_X|NU_ITEM_OCE_N|DS_VT_GAB_OFG_ORIG|DS_VT_GAB_OFG_FIN|  DS_VT_GAB_OCE_ORIG|   DS_VT_GAB_OCE_FIN|DS_VT_ESC_OFG|DS_VT_ACE_OFG|       DS_VT_ESC_OCE|       DS_VT_ACE_OCE|TP_PRES|TP_PR_GER|TP_PR_OB_FG|TP_PR_DI_FG|TP_PR_OB_CE|TP_PR_DI_CE|TP_SFG_D1|TP_SFG_D2|TP_SCE_D1|TP_SCE_D2|TP_SCE_D3|NT_GER|NT_FG|NT_OBJ_FG|NT_DIS_FG|NT_FG_D1|NT_FG_D1_PT|NT_FG_D1_CT|NT_FG_D2|NT_FG_D2_PT|NT_FG_D2_CT|NT_CE|NT_OBJ_CE|NT_DIS_CE|NT_CE_D1|NT_CE_D2|NT_CE_D3|CO_RS_I1|CO_RS_I2|CO_RS_I3|CO_RS_I4|CO_RS_I5|CO_RS_I6|CO_RS_I7|CO_RS_I8|CO_RS_I9|QE_I01|QE_I02|QE_I03|QE_I04|QE_I05|QE_I06|QE_I07|QE_I08|QE_I09|QE_I10|QE_I11|QE_I12|QE_I13|QE_I14|QE_I15|QE_I16|QE_I17|QE_I18|QE_I19|QE_I20|QE_I21|QE_I22|QE_I23|QE_I24|QE_I25|QE_I26|QE_I27|QE_I28|QE_I29|QE_I30|QE_I31|QE_I32|QE_I33|QE_I34|QE_I35|QE_I36|QE_I37|QE_I38|QE_I39|QE_I40|QE_I41|QE_I42|QE_I43|QE_I44|QE_I45|QE_I46|QE_I47|QE_I48|QE_I49|QE_I50|QE_I51|QE_I52|QE_I53|QE_I54|QE_I55|QE_I56|QE_I57|QE_I58|QE_I59|QE_I60|QE_I61|QE_I62|QE_I63|QE_I64|QE_I65|QE_I66|QE_I67|QE_I68|QE_I69|QE_I70|QE_I71|QE_I72|QE_I73|QE_I74|QE_I75|QE_I76|QE_I77|QE_I78|QE_I79|QE_I80|QE_I81|\n",
      "+------+------+----------+----------+--------+--------+-------------+--------------+-----------+---------------+--------+-------+----------+-----------+------------------+----------------+------------+-----------+-------------+-------------+-------------+-----------+-------------+-------------+-------------+------------------+-----------------+--------------------+--------------------+-------------+-------------+--------------------+--------------------+-------+---------+-----------+-----------+-----------+-----------+---------+---------+---------+---------+---------+------+-----+---------+---------+--------+-----------+-----------+--------+-----------+-----------+-----+---------+---------+--------+--------+--------+--------+--------+--------+--------+--------+--------+--------+--------+--------+------+------+------+------+------+------+------+------+------+------+------+------+------+------+------+------+------+------+------+------+------+------+------+------+------+------+------+------+------+------+------+------+------+------+------+------+------+------+------+------+------+------+------+------+------+------+------+------+------+------+------+------+------+------+------+------+------+------+------+------+------+------+------+------+------+------+------+------+------+------+------+------+------+------+------+------+------+------+------+------+------+\n",
      "|  2017|     1|         1|     10028|    5710|       3|            1|       5103403|         51|              5|      26|      F|      2007|       2012|                 3|               0|           1|          8|            0|            0|            0|         27|            0|            8|            0|          CCBBCEAD|         CCBBCEAD|EDCAEABCDBDDDCBCB...|EDXXEABCXBXDDCXCX...|     DCBBCEAD|      1111111|EEEADDBCABADCCAAA...|10990011919101909...|    555|      555|        555|        555|        555|        555|      555|      333|      555|      555|      333|  52,6| 64,1|     87,5|     29,0|      58|         50|         60|       0|          0|          0| 48,7|     52,6|     26,7|      55|      25|       0|       C|       D|       D|       B|       C|       C|       B|       D|       C|     A|     A|     A|     D|     F|     A|     A|     B|     C|     B|     A|     A|     A|     A|     A|    51|     B|     A|     B|     H|     A|     B|     D|     E|     H|     I|     5|     5|     4|     3|     3|     4|     3|     5|     3|     5|     2|     2|     3|     1|     1|     5|     1|     2|     2|     2|     1|     2|     2|     5|     5|     2|     3|     1|     3|     3|     4|     3|     3|     5|     3|     2|     2|     2|     1|     4|     4|     3|  null|  null|  null|  null|  null|  null|  null|  null|  null|  null|  null|  null|  null|\n",
      "+------+------+----------+----------+--------+--------+-------------+--------------+-----------+---------------+--------+-------+----------+-----------+------------------+----------------+------------+-----------+-------------+-------------+-------------+-----------+-------------+-------------+-------------+------------------+-----------------+--------------------+--------------------+-------------+-------------+--------------------+--------------------+-------+---------+-----------+-----------+-----------+-----------+---------+---------+---------+---------+---------+------+-----+---------+---------+--------+-----------+-----------+--------+-----------+-----------+-----+---------+---------+--------+--------+--------+--------+--------+--------+--------+--------+--------+--------+--------+--------+------+------+------+------+------+------+------+------+------+------+------+------+------+------+------+------+------+------+------+------+------+------+------+------+------+------+------+------+------+------+------+------+------+------+------+------+------+------+------+------+------+------+------+------+------+------+------+------+------+------+------+------+------+------+------+------+------+------+------+------+------+------+------+------+------+------+------+------+------+------+------+------+------+------+------+------+------+------+------+------+------+\n",
      "only showing top 1 row\n",
      "\n"
     ]
    }
   ],
   "source": [
    "df.show(1)"
   ]
  },
  {
   "cell_type": "code",
   "execution_count": 13,
   "metadata": {
    "tags": []
   },
   "outputs": [
    {
     "name": "stdout",
     "output_type": "stream",
     "text": [
      "root\n",
      " |-- NU_ANO: integer (nullable = true)\n",
      " |-- CO_IES: integer (nullable = true)\n",
      " |-- CO_CATEGAD: integer (nullable = true)\n",
      " |-- CO_ORGACAD: integer (nullable = true)\n",
      " |-- CO_GRUPO: integer (nullable = true)\n",
      " |-- CO_CURSO: integer (nullable = true)\n",
      " |-- CO_MODALIDADE: integer (nullable = true)\n",
      " |-- CO_MUNIC_CURSO: integer (nullable = true)\n",
      " |-- CO_UF_CURSO: integer (nullable = true)\n",
      " |-- CO_REGIAO_CURSO: integer (nullable = true)\n",
      " |-- NU_IDADE: integer (nullable = true)\n",
      " |-- TP_SEXO: string (nullable = true)\n",
      " |-- ANO_FIM_EM: integer (nullable = true)\n",
      " |-- ANO_IN_GRAD: integer (nullable = true)\n",
      " |-- CO_TURNO_GRADUACAO: integer (nullable = true)\n",
      " |-- TP_INSCRICAO_ADM: integer (nullable = true)\n",
      " |-- TP_INSCRICAO: integer (nullable = true)\n",
      " |-- NU_ITEM_OFG: integer (nullable = true)\n",
      " |-- NU_ITEM_OFG_Z: integer (nullable = true)\n",
      " |-- NU_ITEM_OFG_X: integer (nullable = true)\n",
      " |-- NU_ITEM_OFG_N: integer (nullable = true)\n",
      " |-- NU_ITEM_OCE: integer (nullable = true)\n",
      " |-- NU_ITEM_OCE_Z: integer (nullable = true)\n",
      " |-- NU_ITEM_OCE_X: integer (nullable = true)\n",
      " |-- NU_ITEM_OCE_N: integer (nullable = true)\n",
      " |-- DS_VT_GAB_OFG_ORIG: string (nullable = true)\n",
      " |-- DS_VT_GAB_OFG_FIN: string (nullable = true)\n",
      " |-- DS_VT_GAB_OCE_ORIG: string (nullable = true)\n",
      " |-- DS_VT_GAB_OCE_FIN: string (nullable = true)\n",
      " |-- DS_VT_ESC_OFG: string (nullable = true)\n",
      " |-- DS_VT_ACE_OFG: integer (nullable = true)\n",
      " |-- DS_VT_ESC_OCE: string (nullable = true)\n",
      " |-- DS_VT_ACE_OCE: decimal(27,0) (nullable = true)\n",
      " |-- TP_PRES: integer (nullable = true)\n",
      " |-- TP_PR_GER: integer (nullable = true)\n",
      " |-- TP_PR_OB_FG: integer (nullable = true)\n",
      " |-- TP_PR_DI_FG: integer (nullable = true)\n",
      " |-- TP_PR_OB_CE: integer (nullable = true)\n",
      " |-- TP_PR_DI_CE: integer (nullable = true)\n",
      " |-- TP_SFG_D1: integer (nullable = true)\n",
      " |-- TP_SFG_D2: integer (nullable = true)\n",
      " |-- TP_SCE_D1: integer (nullable = true)\n",
      " |-- TP_SCE_D2: integer (nullable = true)\n",
      " |-- TP_SCE_D3: integer (nullable = true)\n",
      " |-- NT_GER: string (nullable = true)\n",
      " |-- NT_FG: string (nullable = true)\n",
      " |-- NT_OBJ_FG: string (nullable = true)\n",
      " |-- NT_DIS_FG: string (nullable = true)\n",
      " |-- NT_FG_D1: integer (nullable = true)\n",
      " |-- NT_FG_D1_PT: integer (nullable = true)\n",
      " |-- NT_FG_D1_CT: integer (nullable = true)\n",
      " |-- NT_FG_D2: integer (nullable = true)\n",
      " |-- NT_FG_D2_PT: integer (nullable = true)\n",
      " |-- NT_FG_D2_CT: integer (nullable = true)\n",
      " |-- NT_CE: string (nullable = true)\n",
      " |-- NT_OBJ_CE: string (nullable = true)\n",
      " |-- NT_DIS_CE: string (nullable = true)\n",
      " |-- NT_CE_D1: integer (nullable = true)\n",
      " |-- NT_CE_D2: integer (nullable = true)\n",
      " |-- NT_CE_D3: integer (nullable = true)\n",
      " |-- CO_RS_I1: string (nullable = true)\n",
      " |-- CO_RS_I2: string (nullable = true)\n",
      " |-- CO_RS_I3: string (nullable = true)\n",
      " |-- CO_RS_I4: string (nullable = true)\n",
      " |-- CO_RS_I5: string (nullable = true)\n",
      " |-- CO_RS_I6: string (nullable = true)\n",
      " |-- CO_RS_I7: string (nullable = true)\n",
      " |-- CO_RS_I8: string (nullable = true)\n",
      " |-- CO_RS_I9: string (nullable = true)\n",
      " |-- QE_I01: string (nullable = true)\n",
      " |-- QE_I02: string (nullable = true)\n",
      " |-- QE_I03: string (nullable = true)\n",
      " |-- QE_I04: string (nullable = true)\n",
      " |-- QE_I05: string (nullable = true)\n",
      " |-- QE_I06: string (nullable = true)\n",
      " |-- QE_I07: string (nullable = true)\n",
      " |-- QE_I08: string (nullable = true)\n",
      " |-- QE_I09: string (nullable = true)\n",
      " |-- QE_I10: string (nullable = true)\n",
      " |-- QE_I11: string (nullable = true)\n",
      " |-- QE_I12: string (nullable = true)\n",
      " |-- QE_I13: string (nullable = true)\n",
      " |-- QE_I14: string (nullable = true)\n",
      " |-- QE_I15: string (nullable = true)\n",
      " |-- QE_I16: integer (nullable = true)\n",
      " |-- QE_I17: string (nullable = true)\n",
      " |-- QE_I18: string (nullable = true)\n",
      " |-- QE_I19: string (nullable = true)\n",
      " |-- QE_I20: string (nullable = true)\n",
      " |-- QE_I21: string (nullable = true)\n",
      " |-- QE_I22: string (nullable = true)\n",
      " |-- QE_I23: string (nullable = true)\n",
      " |-- QE_I24: string (nullable = true)\n",
      " |-- QE_I25: string (nullable = true)\n",
      " |-- QE_I26: string (nullable = true)\n",
      " |-- QE_I27: integer (nullable = true)\n",
      " |-- QE_I28: integer (nullable = true)\n",
      " |-- QE_I29: integer (nullable = true)\n",
      " |-- QE_I30: integer (nullable = true)\n",
      " |-- QE_I31: integer (nullable = true)\n",
      " |-- QE_I32: integer (nullable = true)\n",
      " |-- QE_I33: integer (nullable = true)\n",
      " |-- QE_I34: integer (nullable = true)\n",
      " |-- QE_I35: integer (nullable = true)\n",
      " |-- QE_I36: integer (nullable = true)\n",
      " |-- QE_I37: integer (nullable = true)\n",
      " |-- QE_I38: integer (nullable = true)\n",
      " |-- QE_I39: integer (nullable = true)\n",
      " |-- QE_I40: integer (nullable = true)\n",
      " |-- QE_I41: integer (nullable = true)\n",
      " |-- QE_I42: integer (nullable = true)\n",
      " |-- QE_I43: integer (nullable = true)\n",
      " |-- QE_I44: integer (nullable = true)\n",
      " |-- QE_I45: integer (nullable = true)\n",
      " |-- QE_I46: integer (nullable = true)\n",
      " |-- QE_I47: integer (nullable = true)\n",
      " |-- QE_I48: integer (nullable = true)\n",
      " |-- QE_I49: integer (nullable = true)\n",
      " |-- QE_I50: integer (nullable = true)\n",
      " |-- QE_I51: integer (nullable = true)\n",
      " |-- QE_I52: integer (nullable = true)\n",
      " |-- QE_I53: integer (nullable = true)\n",
      " |-- QE_I54: integer (nullable = true)\n",
      " |-- QE_I55: integer (nullable = true)\n",
      " |-- QE_I56: integer (nullable = true)\n",
      " |-- QE_I57: integer (nullable = true)\n",
      " |-- QE_I58: integer (nullable = true)\n",
      " |-- QE_I59: integer (nullable = true)\n",
      " |-- QE_I60: integer (nullable = true)\n",
      " |-- QE_I61: integer (nullable = true)\n",
      " |-- QE_I62: integer (nullable = true)\n",
      " |-- QE_I63: integer (nullable = true)\n",
      " |-- QE_I64: integer (nullable = true)\n",
      " |-- QE_I65: integer (nullable = true)\n",
      " |-- QE_I66: integer (nullable = true)\n",
      " |-- QE_I67: integer (nullable = true)\n",
      " |-- QE_I68: integer (nullable = true)\n",
      " |-- QE_I69: string (nullable = true)\n",
      " |-- QE_I70: string (nullable = true)\n",
      " |-- QE_I71: string (nullable = true)\n",
      " |-- QE_I72: string (nullable = true)\n",
      " |-- QE_I73: string (nullable = true)\n",
      " |-- QE_I74: string (nullable = true)\n",
      " |-- QE_I75: string (nullable = true)\n",
      " |-- QE_I76: string (nullable = true)\n",
      " |-- QE_I77: string (nullable = true)\n",
      " |-- QE_I78: string (nullable = true)\n",
      " |-- QE_I79: string (nullable = true)\n",
      " |-- QE_I80: string (nullable = true)\n",
      " |-- QE_I81: string (nullable = true)\n",
      "\n"
     ]
    }
   ],
   "source": [
    "df.printSchema()"
   ]
  },
  {
   "cell_type": "code",
   "execution_count": 14,
   "metadata": {
    "tags": []
   },
   "outputs": [],
   "source": [
    "df.createTempView('temp')"
   ]
  },
  {
   "cell_type": "code",
   "execution_count": 32,
   "metadata": {
    "tags": []
   },
   "outputs": [],
   "source": [
    "resposta = spark.sql('''\n",
    "                        select count(*)\n",
    "                        from temp\n",
    "                        where CO_GRUPO in ('3201','3202')\n",
    "                            ''')"
   ]
  },
  {
   "cell_type": "code",
   "execution_count": 33,
   "metadata": {
    "tags": []
   },
   "outputs": [
    {
     "name": "stdout",
     "output_type": "stream",
     "text": [
      "+--------+\n",
      "|count(1)|\n",
      "+--------+\n",
      "|    7113|\n",
      "+--------+\n",
      "\n"
     ]
    },
    {
     "name": "stderr",
     "output_type": "stream",
     "text": [
      "                                                                                \r"
     ]
    }
   ],
   "source": [
    "resposta.show()"
   ]
  },
  {
   "cell_type": "code",
   "execution_count": 36,
   "metadata": {
    "tags": []
   },
   "outputs": [],
   "source": [
    "resposta = spark.sql('''\n",
    "                        select count(*)\n",
    "                        from temp\n",
    "                        where CO_GRUPO in ('3201','3202')\n",
    "                        and TP_SEXO = 'M'\n",
    "                            ''')"
   ]
  },
  {
   "cell_type": "code",
   "execution_count": 37,
   "metadata": {
    "tags": []
   },
   "outputs": [
    {
     "name": "stderr",
     "output_type": "stream",
     "text": [
      "[Stage 37:=============================>                            (1 + 1) / 2]\r"
     ]
    },
    {
     "name": "stdout",
     "output_type": "stream",
     "text": [
      "+--------+\n",
      "|count(1)|\n",
      "+--------+\n",
      "|    4533|\n",
      "+--------+\n",
      "\n"
     ]
    },
    {
     "name": "stderr",
     "output_type": "stream",
     "text": [
      "                                                                                \r"
     ]
    }
   ],
   "source": [
    "resposta.show()"
   ]
  },
  {
   "cell_type": "code",
   "execution_count": 79,
   "metadata": {
    "tags": []
   },
   "outputs": [],
   "source": [
    "resposta = spark.sql('''\n",
    "                        select \n",
    "                        round(cast(regexp_replace(NT_GER, ',', '.')as double),2) as NT_GER\n",
    "                        from temp\n",
    "                        where CO_GRUPO in ('3201','3202')\n",
    "                        group by 1\n",
    "                        order by 2 DESC\n",
    "                            ''')"
   ]
  },
  {
   "cell_type": "code",
   "execution_count": 80,
   "metadata": {
    "tags": []
   },
   "outputs": [
    {
     "name": "stderr",
     "output_type": "stream",
     "text": [
      "[Stage 87:>                                                         (0 + 2) / 2]\r"
     ]
    },
    {
     "name": "stdout",
     "output_type": "stream",
     "text": [
      "+-----------+------+\n",
      "|CO_UF_CURSO|NT_GER|\n",
      "+-----------+------+\n",
      "|         53|  53.7|\n",
      "|         33| 50.59|\n",
      "|         42| 49.99|\n",
      "|         31| 49.87|\n",
      "|         52| 48.42|\n",
      "|         35| 48.28|\n",
      "|         26| 48.19|\n",
      "|         50| 48.17|\n",
      "|         41| 48.16|\n",
      "|         43| 47.56|\n",
      "|         24| 45.48|\n",
      "|         16| 44.23|\n",
      "|         32| 44.04|\n",
      "|         29|  44.0|\n",
      "|         25| 43.83|\n",
      "|         28| 43.04|\n",
      "|         15| 41.79|\n",
      "|         27| 41.59|\n",
      "|         51|  41.4|\n",
      "|         23| 40.98|\n",
      "|         17| 40.34|\n",
      "|         13| 40.22|\n",
      "|         14| 38.62|\n",
      "|         21| 36.13|\n",
      "|         11| 35.59|\n",
      "|         12| 34.81|\n",
      "|         22|  33.6|\n",
      "+-----------+------+\n",
      "\n"
     ]
    },
    {
     "name": "stderr",
     "output_type": "stream",
     "text": [
      "                                                                                \r"
     ]
    }
   ],
   "source": [
    "resposta.show(40)"
   ]
  },
  {
   "cell_type": "code",
   "execution_count": 120,
   "metadata": {
    "tags": []
   },
   "outputs": [
    {
     "name": "stderr",
     "output_type": "stream",
     "text": [
      "[Stage 166:>                                                        (0 + 2) / 2]\r"
     ]
    },
    {
     "name": "stdout",
     "output_type": "stream",
     "text": [
      "+------------------+\n",
      "|            NT_GER|\n",
      "+------------------+\n",
      "|33.669619007451146|\n",
      "+------------------+\n",
      "\n"
     ]
    },
    {
     "name": "stderr",
     "output_type": "stream",
     "text": [
      "                                                                                \r"
     ]
    }
   ],
   "source": [
    "resposta1 = spark.sql('''\n",
    "    SELECT\n",
    "    AVG(regexp_replace(NU_IDADE, ',', '.')) as NT_GER\n",
    "    FROM temp\n",
    "    WHERE CO_GRUPO IN ('3201','3202')\n",
    "''')\n",
    "\n",
    "resposta1.show()\n"
   ]
  },
  {
   "cell_type": "code",
   "execution_count": 128,
   "metadata": {
    "tags": []
   },
   "outputs": [
    {
     "name": "stderr",
     "output_type": "stream",
     "text": [
      "[Stage 184:>                                                        (0 + 2) / 2]\r"
     ]
    },
    {
     "name": "stdout",
     "output_type": "stream",
     "text": [
      "+------------------+\n",
      "|            NT_GER|\n",
      "+------------------+\n",
      "|28.099538562953196|\n",
      "+------------------+\n",
      "\n"
     ]
    },
    {
     "name": "stderr",
     "output_type": "stream",
     "text": [
      "                                                                                \r"
     ]
    }
   ],
   "source": [
    "resposta2 = spark.sql('''\n",
    "    SELECT\n",
    "    AVG(regexp_replace(NU_IDADE, ',', '.')) as NT_GER\n",
    "    FROM temp\n",
    "    WHERE CO_GRUPO IN ('1401','1402')\n",
    "''')\n",
    "\n",
    "resposta2.show()"
   ]
  },
  {
   "cell_type": "code",
   "execution_count": 109,
   "metadata": {
    "tags": []
   },
   "outputs": [],
   "source": [
    "resposta = spark.sql('''\n",
    "                        select \n",
    "                        round(cast(regexp_replace(NT_GER, ',', '.')as double),0) as NT_GER\n",
    "                        from temp\n",
    "                        where CO_GRUPO in ('3201','3202')\n",
    "                        and CO_RS_I2 = 'B'\n",
    "                        order by 1 desc\n",
    "                            ''')"
   ]
  },
  {
   "cell_type": "code",
   "execution_count": 110,
   "metadata": {
    "tags": []
   },
   "outputs": [
    {
     "name": "stderr",
     "output_type": "stream",
     "text": [
      "[Stage 144:============================>                            (1 + 1) / 2]\r"
     ]
    },
    {
     "name": "stdout",
     "output_type": "stream",
     "text": [
      "+------+\n",
      "|NT_GER|\n",
      "+------+\n",
      "|  90.0|\n",
      "|  86.0|\n",
      "|  85.0|\n",
      "|  81.0|\n",
      "|  80.0|\n",
      "|  79.0|\n",
      "|  79.0|\n",
      "|  78.0|\n",
      "|  76.0|\n",
      "|  75.0|\n",
      "|  75.0|\n",
      "|  75.0|\n",
      "|  75.0|\n",
      "|  75.0|\n",
      "|  74.0|\n",
      "|  74.0|\n",
      "|  73.0|\n",
      "|  73.0|\n",
      "|  73.0|\n",
      "|  72.0|\n",
      "+------+\n",
      "only showing top 20 rows\n",
      "\n"
     ]
    },
    {
     "name": "stderr",
     "output_type": "stream",
     "text": [
      "                                                                                \r"
     ]
    }
   ],
   "source": [
    "resposta.show()"
   ]
  },
  {
   "cell_type": "code",
   "execution_count": 126,
   "metadata": {
    "tags": []
   },
   "outputs": [
    {
     "name": "stdout",
     "output_type": "stream",
     "text": [
      "+-----------------+\n",
      "|     media_nt_ger|\n",
      "+-----------------+\n",
      "|47.56138888888884|\n",
      "+-----------------+\n",
      "\n"
     ]
    },
    {
     "name": "stderr",
     "output_type": "stream",
     "text": [
      "                                                                                \r"
     ]
    }
   ],
   "source": [
    "resposta1 = spark.sql('''\n",
    "SELECT AVG(CAST(regexp_replace(NT_GER, ',', '.') AS DOUBLE)) as media_nt_ger\n",
    "FROM temp\n",
    "WHERE CO_UF_CURSO = '43' AND CO_GRUPO IN ('3201', '3202')\n",
    "''')\n",
    "\n",
    "resposta1.show()"
   ]
  },
  {
   "cell_type": "code",
   "execution_count": 136,
   "metadata": {
    "tags": []
   },
   "outputs": [
    {
     "name": "stderr",
     "output_type": "stream",
     "text": [
      "[Stage 208:>                                                        (0 + 2) / 2]\r"
     ]
    },
    {
     "name": "stdout",
     "output_type": "stream",
     "text": [
      "+-----------+------------------+\n",
      "|CO_UF_CURSO|     avg(NU_IDADE)|\n",
      "+-----------+------------------+\n",
      "|         32|  37.9920424403183|\n",
      "|         11|37.714285714285715|\n",
      "|         42| 37.66773162939297|\n",
      "|         21| 36.94009216589862|\n",
      "|         15|35.815384615384616|\n",
      "|         43|35.669623059866964|\n",
      "|         29|34.836120401337794|\n",
      "|         25| 33.89102564102564|\n",
      "|         33|33.691466083150985|\n",
      "|         53|33.614583333333336|\n",
      "|         51| 33.56603773584906|\n",
      "|         12| 33.55172413793103|\n",
      "|         50|              33.5|\n",
      "|         31| 33.42088091353997|\n",
      "|         35| 33.41230551626591|\n",
      "|         17|32.515151515151516|\n",
      "|         22|32.334916864608076|\n",
      "|         41| 32.05580357142857|\n",
      "|         27| 32.03333333333333|\n",
      "|         52|31.771929824561404|\n",
      "+-----------+------------------+\n",
      "only showing top 20 rows\n",
      "\n"
     ]
    },
    {
     "name": "stderr",
     "output_type": "stream",
     "text": [
      "                                                                                \r"
     ]
    }
   ],
   "source": [
    "resposta1 = spark.sql('''\n",
    "    SELECT\n",
    "    CO_UF_CURSO,\n",
    "    AVG(NU_IDADE) \n",
    "    FROM temp\n",
    "    WHERE CO_GRUPO IN ('3201','3202')\n",
    "    group by 1\n",
    "    order by 2 desc\n",
    "''')\n",
    "\n",
    "resposta1.show()"
   ]
  },
  {
   "cell_type": "code",
   "execution_count": 137,
   "metadata": {
    "tags": []
   },
   "outputs": [
    {
     "name": "stdout",
     "output_type": "stream",
     "text": [
      "+-----------+--------+\n",
      "|CO_UF_CURSO|count(1)|\n",
      "+-----------+--------+\n",
      "|         35|     360|\n",
      "|         41|     160|\n",
      "|         33|     109|\n",
      "|         31|      78|\n",
      "|         42|      64|\n",
      "|         23|      60|\n",
      "|         43|      52|\n",
      "|         53|      24|\n",
      "|         29|      23|\n",
      "|         50|      22|\n",
      "|         13|      19|\n",
      "|         27|      17|\n",
      "|         52|      17|\n",
      "|         25|      15|\n",
      "|         24|      13|\n",
      "|         26|      12|\n",
      "|         17|      12|\n",
      "|         15|      10|\n",
      "|         22|       9|\n",
      "|         32|       8|\n",
      "+-----------+--------+\n",
      "only showing top 20 rows\n",
      "\n"
     ]
    },
    {
     "name": "stderr",
     "output_type": "stream",
     "text": [
      "                                                                                \r"
     ]
    }
   ],
   "source": [
    "resposta1 = spark.sql('''\n",
    "    SELECT\n",
    "    CO_UF_CURSO,\n",
    "    count(*) \n",
    "    FROM temp\n",
    "    WHERE QE_I03 = 'C'\n",
    "    group by 1\n",
    "    order by 2 desc\n",
    "''')\n",
    "\n",
    "resposta1.show()"
   ]
  },
  {
   "cell_type": "code",
   "execution_count": null,
   "metadata": {},
   "outputs": [],
   "source": []
  }
 ],
 "metadata": {
  "kernelspec": {
   "display_name": "Python 3 (ipykernel)",
   "language": "python",
   "name": "python3"
  },
  "language_info": {
   "codemirror_mode": {
    "name": "ipython",
    "version": 3
   },
   "file_extension": ".py",
   "mimetype": "text/x-python",
   "name": "python",
   "nbconvert_exporter": "python",
   "pygments_lexer": "ipython3",
   "version": "3.10.6"
  }
 },
 "nbformat": 4,
 "nbformat_minor": 4
}
