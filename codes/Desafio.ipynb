{
 "cells": [
  {
   "cell_type": "code",
   "execution_count": 1,
   "metadata": {},
   "outputs": [],
   "source": [
    "import sys\n",
    "sys.path.append('../utils')"
   ]
  },
  {
   "cell_type": "code",
   "execution_count": 2,
   "metadata": {},
   "outputs": [
    {
     "name": "stderr",
     "output_type": "stream",
     "text": [
      "23/04/14 19:59:38 WARN Utils: Your hostname, thiagovale-550XDA resolves to a loopback address: 127.0.1.1; using 192.168.0.15 instead (on interface wlo1)\n",
      "23/04/14 19:59:38 WARN Utils: Set SPARK_LOCAL_IP if you need to bind to another address\n"
     ]
    },
    {
     "name": "stdout",
     "output_type": "stream",
     "text": [
      ":: loading settings :: url = jar:file:/usr/local/lib/python3.10/dist-packages/pyspark/jars/ivy-2.5.0.jar!/org/apache/ivy/core/settings/ivysettings.xml\n"
     ]
    },
    {
     "name": "stderr",
     "output_type": "stream",
     "text": [
      "Ivy Default Cache set to: /home/thiago-vale/.ivy2/cache\n",
      "The jars for the packages stored in: /home/thiago-vale/.ivy2/jars\n",
      "io.delta#delta-core_2.12 added as a dependency\n",
      ":: resolving dependencies :: org.apache.spark#spark-submit-parent-d907d234-04fd-4b34-8236-1efb150cf031;1.0\n",
      "\tconfs: [default]\n",
      "\tfound io.delta#delta-core_2.12;2.0.2 in central\n",
      "\tfound io.delta#delta-storage;2.0.2 in central\n",
      "\tfound org.antlr#antlr4-runtime;4.8 in central\n",
      "\tfound org.codehaus.jackson#jackson-core-asl;1.9.13 in central\n",
      ":: resolution report :: resolve 117ms :: artifacts dl 4ms\n",
      "\t:: modules in use:\n",
      "\tio.delta#delta-core_2.12;2.0.2 from central in [default]\n",
      "\tio.delta#delta-storage;2.0.2 from central in [default]\n",
      "\torg.antlr#antlr4-runtime;4.8 from central in [default]\n",
      "\torg.codehaus.jackson#jackson-core-asl;1.9.13 from central in [default]\n",
      "\t---------------------------------------------------------------------\n",
      "\t|                  |            modules            ||   artifacts   |\n",
      "\t|       conf       | number| search|dwnlded|evicted|| number|dwnlded|\n",
      "\t---------------------------------------------------------------------\n",
      "\t|      default     |   4   |   0   |   0   |   0   ||   4   |   0   |\n",
      "\t---------------------------------------------------------------------\n",
      ":: retrieving :: org.apache.spark#spark-submit-parent-d907d234-04fd-4b34-8236-1efb150cf031\n",
      "\tconfs: [default]\n",
      "\t0 artifacts copied, 4 already retrieved (0kB/4ms)\n",
      "23/04/14 19:59:39 WARN NativeCodeLoader: Unable to load native-hadoop library for your platform... using builtin-java classes where applicable\n",
      "Using Spark's default log4j profile: org/apache/spark/log4j-defaults.properties\n",
      "Setting default log level to \"WARN\".\n",
      "To adjust logging level use sc.setLogLevel(newLevel). For SparkR, use setLogLevel(newLevel).\n"
     ]
    }
   ],
   "source": [
    "from spark_config import spark_configs\n",
    "\n",
    "spark = spark_configs()"
   ]
  },
  {
   "cell_type": "code",
   "execution_count": 3,
   "metadata": {},
   "outputs": [],
   "source": [
    "spark = spark.builder.appName('read spark').getOrCreate()"
   ]
  },
  {
   "cell_type": "code",
   "execution_count": 4,
   "metadata": {},
   "outputs": [],
   "source": [
    "resultado = spark.read.format('csv').option('header','true').option('delimiter',';').load('../data/cnaes.csv')"
   ]
  },
  {
   "cell_type": "code",
   "execution_count": 5,
   "metadata": {},
   "outputs": [
    {
     "name": "stdout",
     "output_type": "stream",
     "text": [
      "+-------+--------------------+\n",
      "|   CNAE|      DESCRICAO_CNAE|\n",
      "+-------+--------------------+\n",
      "|0111301|    Cultivo de arroz|\n",
      "|0111302|    Cultivo de milho|\n",
      "|0111303|    Cultivo de trigo|\n",
      "|0111399|Cultivo de outros...|\n",
      "|0112101|Cultivo de algod�...|\n",
      "+-------+--------------------+\n",
      "only showing top 5 rows\n",
      "\n"
     ]
    }
   ],
   "source": [
    "resultado.show(5)"
   ]
  },
  {
   "cell_type": "code",
   "execution_count": 6,
   "metadata": {},
   "outputs": [
    {
     "name": "stderr",
     "output_type": "stream",
     "text": [
      "                                                                                \r"
     ]
    }
   ],
   "source": [
    "resultado.write.format('parquet').mode('overwrite').save('../data/ceaes')"
   ]
  },
  {
   "cell_type": "code",
   "execution_count": 8,
   "metadata": {},
   "outputs": [],
   "source": [
    "resultado = spark.read.format('csv').option('header','true').option('delimiter',';').load('../data/estabelecimentos/')"
   ]
  },
  {
   "cell_type": "code",
   "execution_count": 9,
   "metadata": {},
   "outputs": [
    {
     "name": "stdout",
     "output_type": "stream",
     "text": [
      "+-----------+----------+-------+---------------------------+--------------------+------------------+-----------------------+-------------------------+--------------------------+----+---------------------+--------------+---------------+---------------+--------------------+------+-----------+--------------------+--------+---+---------+-----+--------+-----+-----+-------+----+--------------------+-----------------+----------------------+\n",
      "|CNPJ_BASICO|CNPJ_ORDEM|CNPJ_DV|IDENTIFICADOR_MATRIZ_FILIAL|       NOME_FANTASIA|SITUACAO_CADASTRAL|DATA_SITUACAO_CADASTRAL|MOTIVO_SITUACAO_CADASTRAL|NOME_DA_CIDADE_NO_EXTERIOR|PAIS|DATA_INICIO_ATIVIDADE|CNAE_PRINCIPAL|CNAE_SECUNDARIA|TIPO_LOGRADOURO|          LOGRADOURO|NUMERO|COMPLEMENTO|              BAIRRO|     CEP| UF|MUNICIPIO|DDD_1|   TEL_1|DDD_2|TEL_2|DDD_FAX| FAX|  CORREIO_ELETRONICO|SITUACAO_ESPECIAL|DATA_SITUACAO_ESPECIAL|\n",
      "+-----------+----------+-------+---------------------------+--------------------+------------------+-----------------------+-------------------------+--------------------------+----+---------------------+--------------+---------------+---------------+--------------------+------+-----------+--------------------+--------+---+---------+-----+--------+-----+-----+-------+----+--------------------+-----------------+----------------------+\n",
      "|   28678846|         1|      2|                          1|                null|                 2|               20220314|                        0|                      null|null|             20170919|       4729699|           null|        AVENIDA|LEONARDO ANTONIO ...|    35|       null|JARDIM PARAISO I ...|13179335| SP|     7149|   19|89501163| null| null|   null|null|ROSYJACOMO@HOTMAI...|             null|                  null|\n",
      "|   26754771|         1|     68|                          1|  INOVAR CONSTRUCOES|                 4|               20210225|                       63|                      null|null|             20161222|       4399103|4330405,4330404|            RUA|          SAO MIGUEL|   267|     CASA 4|CORONEL APARICIO ...|91710330| RS|     8801|   51|99683907| null| null|   null|null|guilhermesodre201...|             null|                  null|\n",
      "|   37962505|         1|     47|                          1|         CABRAL FOOD|                 8|               20200923|                        1|                      null|null|             20200804|       5611203|           null|        AVENIDA|JORGE RODRIGUES P...|   100|       null|       JARDIM RECORD|06780120| SP|     7157|   11|46851465| null| null|   null|null|MARIANAPMEDEIROS@...|             null|                  null|\n",
      "|   26755226|         1|     96|                          1|       JC MANUTENCAO|                 2|               20161222|                        0|                      null|null|             20161222|       3314707|           null|        AVENIDA|     COELHO DA ROCHA|  2138|       null|      ROCHA SOBRINHO|26572481| RJ|     1116|   21|64508032| null| null|   null|null|jeffersonrabello3...|             null|                  null|\n",
      "|   26755456|         1|     55|                          1|HADASSA BOLOS NO ...|                 8|               20170412|                        1|                      null|null|             20161222|       5612100|           null|            RUA|         DOS GUSMOES|    68|       CASA| JARDIM SAO LOURENCO|79041540| MS|     9051|   67|30267063| null| null|   null|null|clafael4@hotmail.com|             null|                  null|\n",
      "+-----------+----------+-------+---------------------------+--------------------+------------------+-----------------------+-------------------------+--------------------------+----+---------------------+--------------+---------------+---------------+--------------------+------+-----------+--------------------+--------+---+---------+-----+--------+-----+-----+-------+----+--------------------+-----------------+----------------------+\n",
      "only showing top 5 rows\n",
      "\n"
     ]
    }
   ],
   "source": [
    "resultado.show(5)"
   ]
  },
  {
   "cell_type": "code",
   "execution_count": 10,
   "metadata": {},
   "outputs": [
    {
     "name": "stderr",
     "output_type": "stream",
     "text": [
      "                                                                                \r"
     ]
    }
   ],
   "source": [
    "resultado.write.format('parquet').mode('overwrite').save('../data/estabelecimentos2')"
   ]
  },
  {
   "cell_type": "code",
   "execution_count": null,
   "metadata": {},
   "outputs": [],
   "source": []
  }
 ],
 "metadata": {
  "kernelspec": {
   "display_name": "Python 3",
   "language": "python",
   "name": "python3"
  },
  "language_info": {
   "codemirror_mode": {
    "name": "ipython",
    "version": 3
   },
   "file_extension": ".py",
   "mimetype": "text/x-python",
   "name": "python",
   "nbconvert_exporter": "python",
   "pygments_lexer": "ipython3",
   "version": "3.10.6"
  },
  "orig_nbformat": 4
 },
 "nbformat": 4,
 "nbformat_minor": 2
}
